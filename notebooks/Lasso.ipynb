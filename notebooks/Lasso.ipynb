{
 "cells": [
  {
   "cell_type": "markdown",
   "metadata": {},
   "source": [
    "#### Imports"
   ]
  },
  {
   "cell_type": "code",
   "execution_count": 1,
   "metadata": {},
   "outputs": [],
   "source": [
    "# Import\n",
    "import pandas as pd\n",
    "import numpy as np\n",
    "import matplotlib.pyplot as plt\n",
    "\n",
    "from statsmodels.api import add_constant\n",
    "from statsmodels.regression.linear_model import OLS\n",
    "\n",
    "from sklearn.linear_model import Lasso\n",
    "from sklearn.model_selection import KFold, train_test_split\n",
    "from sklearn.preprocessing import scale\n",
    "from sklearn.metrics import mean_squared_error"
   ]
  },
  {
   "cell_type": "markdown",
   "metadata": {},
   "source": [
    "#### Data Preparation"
   ]
  },
  {
   "cell_type": "code",
   "execution_count": 2,
   "metadata": {},
   "outputs": [
    {
     "data": {
      "text/html": [
       "<div>\n",
       "<style scoped>\n",
       "    .dataframe tbody tr th:only-of-type {\n",
       "        vertical-align: middle;\n",
       "    }\n",
       "\n",
       "    .dataframe tbody tr th {\n",
       "        vertical-align: top;\n",
       "    }\n",
       "\n",
       "    .dataframe thead th {\n",
       "        text-align: right;\n",
       "    }\n",
       "</style>\n",
       "<table border=\"1\" class=\"dataframe\">\n",
       "  <thead>\n",
       "    <tr style=\"text-align: right;\">\n",
       "      <th></th>\n",
       "      <th>Income</th>\n",
       "      <th>Limit</th>\n",
       "      <th>Rating</th>\n",
       "      <th>Cards</th>\n",
       "      <th>Age</th>\n",
       "      <th>Education</th>\n",
       "      <th>Gender</th>\n",
       "      <th>Student</th>\n",
       "      <th>Married</th>\n",
       "      <th>Ethnicity</th>\n",
       "      <th>Balance</th>\n",
       "    </tr>\n",
       "  </thead>\n",
       "  <tbody>\n",
       "    <tr>\n",
       "      <th>0</th>\n",
       "      <td>14.891</td>\n",
       "      <td>3606</td>\n",
       "      <td>283</td>\n",
       "      <td>2</td>\n",
       "      <td>34</td>\n",
       "      <td>11</td>\n",
       "      <td>Male</td>\n",
       "      <td>No</td>\n",
       "      <td>Yes</td>\n",
       "      <td>Caucasian</td>\n",
       "      <td>333</td>\n",
       "    </tr>\n",
       "    <tr>\n",
       "      <th>1</th>\n",
       "      <td>106.025</td>\n",
       "      <td>6645</td>\n",
       "      <td>483</td>\n",
       "      <td>3</td>\n",
       "      <td>82</td>\n",
       "      <td>15</td>\n",
       "      <td>Female</td>\n",
       "      <td>Yes</td>\n",
       "      <td>Yes</td>\n",
       "      <td>Asian</td>\n",
       "      <td>903</td>\n",
       "    </tr>\n",
       "    <tr>\n",
       "      <th>2</th>\n",
       "      <td>104.593</td>\n",
       "      <td>7075</td>\n",
       "      <td>514</td>\n",
       "      <td>4</td>\n",
       "      <td>71</td>\n",
       "      <td>11</td>\n",
       "      <td>Male</td>\n",
       "      <td>No</td>\n",
       "      <td>No</td>\n",
       "      <td>Asian</td>\n",
       "      <td>580</td>\n",
       "    </tr>\n",
       "    <tr>\n",
       "      <th>3</th>\n",
       "      <td>148.924</td>\n",
       "      <td>9504</td>\n",
       "      <td>681</td>\n",
       "      <td>3</td>\n",
       "      <td>36</td>\n",
       "      <td>11</td>\n",
       "      <td>Female</td>\n",
       "      <td>No</td>\n",
       "      <td>No</td>\n",
       "      <td>Asian</td>\n",
       "      <td>964</td>\n",
       "    </tr>\n",
       "    <tr>\n",
       "      <th>4</th>\n",
       "      <td>55.882</td>\n",
       "      <td>4897</td>\n",
       "      <td>357</td>\n",
       "      <td>2</td>\n",
       "      <td>68</td>\n",
       "      <td>16</td>\n",
       "      <td>Male</td>\n",
       "      <td>No</td>\n",
       "      <td>Yes</td>\n",
       "      <td>Caucasian</td>\n",
       "      <td>331</td>\n",
       "    </tr>\n",
       "    <tr>\n",
       "      <th>5</th>\n",
       "      <td>80.180</td>\n",
       "      <td>8047</td>\n",
       "      <td>569</td>\n",
       "      <td>4</td>\n",
       "      <td>77</td>\n",
       "      <td>10</td>\n",
       "      <td>Male</td>\n",
       "      <td>No</td>\n",
       "      <td>No</td>\n",
       "      <td>Caucasian</td>\n",
       "      <td>1151</td>\n",
       "    </tr>\n",
       "    <tr>\n",
       "      <th>6</th>\n",
       "      <td>20.996</td>\n",
       "      <td>3388</td>\n",
       "      <td>259</td>\n",
       "      <td>2</td>\n",
       "      <td>37</td>\n",
       "      <td>12</td>\n",
       "      <td>Female</td>\n",
       "      <td>No</td>\n",
       "      <td>No</td>\n",
       "      <td>African American</td>\n",
       "      <td>203</td>\n",
       "    </tr>\n",
       "    <tr>\n",
       "      <th>7</th>\n",
       "      <td>71.408</td>\n",
       "      <td>7114</td>\n",
       "      <td>512</td>\n",
       "      <td>2</td>\n",
       "      <td>87</td>\n",
       "      <td>9</td>\n",
       "      <td>Male</td>\n",
       "      <td>No</td>\n",
       "      <td>No</td>\n",
       "      <td>Asian</td>\n",
       "      <td>872</td>\n",
       "    </tr>\n",
       "    <tr>\n",
       "      <th>8</th>\n",
       "      <td>15.125</td>\n",
       "      <td>3300</td>\n",
       "      <td>266</td>\n",
       "      <td>5</td>\n",
       "      <td>66</td>\n",
       "      <td>13</td>\n",
       "      <td>Female</td>\n",
       "      <td>No</td>\n",
       "      <td>No</td>\n",
       "      <td>Caucasian</td>\n",
       "      <td>279</td>\n",
       "    </tr>\n",
       "  </tbody>\n",
       "</table>\n",
       "</div>"
      ],
      "text/plain": [
       "    Income  Limit  Rating  Cards  Age  Education  Gender Student Married  \\\n",
       "0   14.891   3606     283      2   34         11    Male      No     Yes   \n",
       "1  106.025   6645     483      3   82         15  Female     Yes     Yes   \n",
       "2  104.593   7075     514      4   71         11    Male      No      No   \n",
       "3  148.924   9504     681      3   36         11  Female      No      No   \n",
       "4   55.882   4897     357      2   68         16    Male      No     Yes   \n",
       "5   80.180   8047     569      4   77         10    Male      No      No   \n",
       "6   20.996   3388     259      2   37         12  Female      No      No   \n",
       "7   71.408   7114     512      2   87          9    Male      No      No   \n",
       "8   15.125   3300     266      5   66         13  Female      No      No   \n",
       "\n",
       "          Ethnicity  Balance  \n",
       "0         Caucasian      333  \n",
       "1             Asian      903  \n",
       "2             Asian      580  \n",
       "3             Asian      964  \n",
       "4         Caucasian      331  \n",
       "5         Caucasian     1151  \n",
       "6  African American      203  \n",
       "7             Asian      872  \n",
       "8         Caucasian      279  "
      ]
     },
     "execution_count": 2,
     "metadata": {},
     "output_type": "execute_result"
    }
   ],
   "source": [
    "data = pd.read_csv('data/Credit.csv', usecols=range(1,12))\n",
    "data.head(9)"
   ]
  },
  {
   "cell_type": "markdown",
   "metadata": {},
   "source": [
    "EX1: If this would be the whole dataset we could not use OLS since p > n. Therefore, shirnkage methods would be required."
   ]
  },
  {
   "cell_type": "code",
   "execution_count": 3,
   "metadata": {},
   "outputs": [],
   "source": [
    "# Splitt data into regressors X and target y and create dummy variables for categorical variables\n",
    "categ_cols = [\"Gender\", \"Student\", \"Married\", \"Ethnicity\"]\n",
    "X = data.loc[:, data.columns != 'Balance']\n",
    "X = pd.get_dummies(X, columns=categ_cols, drop_first=True)\n",
    "y = data.loc[:, 'Balance']"
   ]
  },
  {
   "cell_type": "markdown",
   "metadata": {},
   "source": [
    "#### Lasso Regression"
   ]
  },
  {
   "cell_type": "markdown",
   "metadata": {},
   "source": [
    "Showing the relative magnitude of the Lasso coefficients"
   ]
  },
  {
   "cell_type": "code",
   "execution_count": 4,
   "metadata": {},
   "outputs": [],
   "source": [
    "def fit_lasso(X, y, alpha):\n",
    "    lasso = Lasso()\n",
    "\n",
    "    # scale the data\n",
    "    X_scaled = scale(X)\n",
    "\n",
    "    # no need sklearn lasso can deal with non centered data\n",
    "    y_mod = y - np.mean(y) # this will set intercept to ~0\n",
    "    # y_mod = y\n",
    "\n",
    "    lasso.set_params(alpha=alpha)\n",
    "    # fit the model\n",
    "    lasso.fit(X_scaled, y_mod)\n",
    "    \n",
    "    # intercept is mean if not modified before\n",
    "    # print(lasso.intercept_)\n",
    "    # print(np.mean(y))\n",
    "\n",
    "    # show coefficients and their name from dataset\n",
    "    return lasso.coef_"
   ]
  },
  {
   "cell_type": "code",
   "execution_count": 5,
   "metadata": {},
   "outputs": [
    {
     "data": {
      "text/plain": [
       "Income                -228.476604\n",
       "Limit                  335.295534\n",
       "Rating                 233.092151\n",
       "Cards                   12.897087\n",
       "Age                     -4.058972\n",
       "Education               -0.000000\n",
       "Gender_Female           -0.000000\n",
       "Student_Yes            116.127917\n",
       "Married_Yes             -0.000000\n",
       "Ethnicity_Asian          0.000000\n",
       "Ethnicity_Caucasian      0.000000\n",
       "dtype: float64"
      ]
     },
     "execution_count": 5,
     "metadata": {},
     "output_type": "execute_result"
    }
   ],
   "source": [
    "pd.Series(fit_lasso(X, y, 10**1), index=X.columns)"
   ]
  },
  {
   "cell_type": "markdown",
   "metadata": {},
   "source": [
    "Showing the effect of alpha on the coefficients"
   ]
  },
  {
   "cell_type": "code",
   "execution_count": 6,
   "metadata": {},
   "outputs": [
    {
     "data": {
      "text/plain": [
       "<matplotlib.legend.Legend at 0x2499618f8c0>"
      ]
     },
     "execution_count": 6,
     "metadata": {},
     "output_type": "execute_result"
    },
    {
     "data": {
      "image/png": "[encoded data removed]",
      "text/plain": [
       "<Figure size 640x480 with 1 Axes>"
      ]
     },
     "metadata": {},
     "output_type": "display_data"
    }
   ],
   "source": [
    "# Init alpha grid\n",
    "n_grid = 100\n",
    "alphas = 10**np.linspace(0, 3, n_grid)\n",
    "\n",
    "lasso = Lasso()\n",
    "lasso_coefs = []\n",
    "\n",
    "# Loop over values of alpha\n",
    "for a in alphas:\n",
    "    lasso_coefs.append(fit_lasso(X, y, a))\n",
    "lasso_coefs = np.reshape(lasso_coefs, (n_grid, -1))\n",
    "\n",
    "highlight = [i for i,j in enumerate(lasso_coefs[0]) if abs(j) > 50]\n",
    "highlight_names = [name for i,name in enumerate(X.columns) if i in highlight]\n",
    "\n",
    "# Plot coefficients - absolute\n",
    "fig, ax1 = plt.subplots()\n",
    "ax1.plot(alphas, lasso_coefs[:,highlight], alpha=1)\n",
    "ax1.plot(alphas, lasso_coefs, c='grey', alpha=0.3)\n",
    "ax1.set_xscale('log')\n",
    "ax1.set_xlabel('lambda')\n",
    "ax1.set_ylabel('Standardized coefficients')\n",
    "ax1.legend(highlight_names, fontsize=12)"
   ]
  },
  {
   "cell_type": "markdown",
   "metadata": {},
   "source": [
    "EX2a: The most influencal regressors are \"Income\", \"Limit\", \"Rating\", and \"Student\""
   ]
  },
  {
   "cell_type": "markdown",
   "metadata": {},
   "source": [
    "#### 10-fold cross-validation"
   ]
  },
  {
   "cell_type": "code",
   "execution_count": 7,
   "metadata": {},
   "outputs": [],
   "source": [
    "# Get MSE\n",
    "def k_fold_lasso(X, y, a, n_splits=10):\n",
    "    # Init mse\n",
    "    X_scaled = scale(X)\n",
    "    mse = []\n",
    "    \n",
    "    # Generate splits\n",
    "    kf10 = KFold(n_splits=n_splits, random_state=None, shuffle=False)\n",
    "    kf10.get_n_splits(X_scaled)\n",
    "    \n",
    "    # Loop over splits\n",
    "    for train_index, test_index in kf10.split(X_scaled):\n",
    "        X_train, X_test = X_scaled[train_index], X_scaled[test_index]\n",
    "        y_train, y_test = y[train_index], y[test_index]\n",
    "        lasso = Lasso(alpha=a).fit(X_train, y_train)\n",
    "        y_hat = lasso.predict(X_test)\n",
    "        mse.append(mean_squared_error(y_test, y_hat))\n",
    "    return np.mean(mse)"
   ]
  },
  {
   "cell_type": "code",
   "execution_count": 19,
   "metadata": {},
   "outputs": [],
   "source": [
    "alphas = 10**np.linspace(0, 4, 40)\n",
    "# add 0.01 to alphas\n",
    "alphas = np.append(0.01, alphas)\n",
    "\n",
    "MSE = [k_fold_lasso(X,y,a,10) for a in alphas]"
   ]
  },
  {
   "cell_type": "code",
   "execution_count": 17,
   "metadata": {},
   "outputs": [
    {
     "data": {
      "text/plain": [
       "Text(0, 0.5, 'MSE')"
      ]
     },
     "execution_count": 17,
     "metadata": {},
     "output_type": "execute_result"
    },
    {
     "data": {
      "image/png": "[encoded data removed]",
      "text/plain": [
       "<Figure size 640x480 with 1 Axes>"
      ]
     },
     "metadata": {},
     "output_type": "display_data"
    }
   ],
   "source": [
    "# plot MSE\n",
    "fig, ax1 = plt.subplots()\n",
    "ax1.plot(alphas, MSE)\n",
    "ax1.set_xscale('log')\n",
    "ax1.set_xlabel('lambda')\n",
    "ax1.set_ylabel('MSE')"
   ]
  },
  {
   "cell_type": "code",
   "execution_count": 20,
   "metadata": {},
   "outputs": [
    {
     "name": "stdout",
     "output_type": "stream",
     "text": [
      "Best alpha is: 0.01\n"
     ]
    }
   ],
   "source": [
    "alpha_min = alphas[np.argmin(MSE)]\n",
    "print('Best alpha is:', alpha_min)"
   ]
  },
  {
   "cell_type": "markdown",
   "metadata": {},
   "source": [
    "EX2b: Based on 10-fold cross validation Lasso is not an desired method for this Problem if the target is prediction accuracy since the optimal $\\lambda$ is most likely 0"
   ]
  },
  {
   "cell_type": "markdown",
   "metadata": {},
   "source": [
    "#### Post-Lasso"
   ]
  },
  {
   "cell_type": "code",
   "execution_count": 11,
   "metadata": {},
   "outputs": [
    {
     "name": "stdout",
     "output_type": "stream",
     "text": [
      "const         -493.734187\n",
      "Income          -7.795082\n",
      "Limit            0.193691\n",
      "Rating           1.091187\n",
      "Cards           18.211898\n",
      "Age             -0.624056\n",
      "Student_Yes    425.609937\n",
      "dtype: float64\n"
     ]
    }
   ],
   "source": [
    "def post_lasso(X, y, alpha):\n",
    "    \n",
    "    # scale regressors\n",
    "    X_scaled = scale(X)\n",
    "    # fit lasso\n",
    "    coefficients = fit_lasso(X, y, alpha)\n",
    "    # select regressors != 0\n",
    "    selected_regressors = [X.columns[i] for i,j in enumerate(coefficients) if j != 0]\n",
    "    # define subset\n",
    "    X_subset = X.loc[:, selected_regressors]\n",
    "    # transform boolean into int for categorical values. Only needed in OSL, Lasso does it by itself.\n",
    "    categorical = X_subset.select_dtypes(bool)\n",
    "    X_subset[categorical.columns] = categorical.astype(int)\n",
    "    \n",
    "    # OLS Regression\n",
    "    reg = OLS(y, add_constant(X_subset), hasconst=True).fit()\n",
    "    return reg.params\n",
    "\n",
    "print(post_lasso(X, y, 10))"
   ]
  }
 ],
 "metadata": {
  "kernelspec": {
   "display_name": "lasso",
   "language": "python",
   "name": "python3"
  },
  "language_info": {
   "codemirror_mode": {
    "name": "ipython",
    "version": 3
   },
   "file_extension": ".py",
   "mimetype": "text/x-python",
   "name": "python",
   "nbconvert_exporter": "python",
   "pygments_lexer": "ipython3",
   "version": "3.12.3"
  }
 },
 "nbformat": 4,
 "nbformat_minor": 2
}
